{
 "cells": [
  {
   "cell_type": "code",
   "execution_count": 2,
   "id": "f0c23292",
   "metadata": {},
   "outputs": [],
   "source": [
    "import numpy as np\n"
   ]
  },
  {
   "cell_type": "code",
   "execution_count": null,
   "id": "cd6d568a",
   "metadata": {},
   "outputs": [],
   "source": []
  },
  {
   "cell_type": "code",
   "execution_count": 3,
   "id": "10aacd5a",
   "metadata": {},
   "outputs": [],
   "source": [
    "x=np.array([0,1])\n",
    "w=np.array([1,1])\n",
    "b=-1.5\n",
    "yin=np.dot(x,w)+b"
   ]
  },
  {
   "cell_type": "code",
   "execution_count": 7,
   "id": "a90916a6",
   "metadata": {},
   "outputs": [
    {
     "name": "stdout",
     "output_type": "stream",
     "text": [
      "0\n"
     ]
    }
   ],
   "source": [
    "if(yin>=0):\n",
    "    print(\"1\")\n",
    "else:\n",
    "    print(\"0\")\n"
   ]
  },
  {
   "cell_type": "code",
   "execution_count": null,
   "id": "d77df2d9",
   "metadata": {},
   "outputs": [],
   "source": []
  },
  {
   "cell_type": "code",
   "execution_count": 5,
   "id": "450dc897",
   "metadata": {},
   "outputs": [],
   "source": [
    "def PerceptAND(x1,x2,w1,w2,b):\n",
    "    x=np.array([x1,x2])\n",
    "    w=np.array([w1,w2])\n",
    "    yin=np.dot(x,w)+b\n",
    "    \n",
    "    if(yin>=0):\n",
    "        print(1)\n",
    "        \n",
    "    else:\n",
    "        print(0)"
   ]
  },
  {
   "cell_type": "code",
   "execution_count": 41,
   "id": "724983be",
   "metadata": {},
   "outputs": [
    {
     "name": "stdout",
     "output_type": "stream",
     "text": [
      "0\n"
     ]
    }
   ],
   "source": [
    "PerceptAND(0,0,1,1,-1.5)"
   ]
  },
  {
   "cell_type": "code",
   "execution_count": null,
   "id": "6a98c35d",
   "metadata": {},
   "outputs": [],
   "source": []
  },
  {
   "cell_type": "code",
   "execution_count": null,
   "id": "3a35b42b",
   "metadata": {},
   "outputs": [],
   "source": [
    "#logical OR"
   ]
  },
  {
   "cell_type": "code",
   "execution_count": null,
   "id": "5111c057",
   "metadata": {},
   "outputs": [],
   "source": [
    "def PerceptOR(x1,x2,w1,w2,b):\n",
    "    x=np.array([x1,x2])\n",
    "    w=np.array([w1,w2])\n",
    "    yin=np.dot(x,w)+b"
   ]
  },
  {
   "cell_type": "code",
   "execution_count": null,
   "id": "9be98af5",
   "metadata": {},
   "outputs": [],
   "source": []
  }
 ],
 "metadata": {
  "kernelspec": {
   "display_name": "Python 3 (ipykernel)",
   "language": "python",
   "name": "python3"
  },
  "language_info": {
   "codemirror_mode": {
    "name": "ipython",
    "version": 3
   },
   "file_extension": ".py",
   "mimetype": "text/x-python",
   "name": "python",
   "nbconvert_exporter": "python",
   "pygments_lexer": "ipython3",
   "version": "3.10.7"
  }
 },
 "nbformat": 4,
 "nbformat_minor": 5
}
